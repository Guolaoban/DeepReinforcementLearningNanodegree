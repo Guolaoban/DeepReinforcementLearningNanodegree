{
 "cells": [
  {
   "cell_type": "markdown",
   "metadata": {},
   "source": [
    "# Solution\n",
    "\n",
    "## Initialization"
   ]
  },
  {
   "cell_type": "code",
   "execution_count": 1,
   "metadata": {},
   "outputs": [],
   "source": [
    "from unityagents import UnityEnvironment\n",
    "import numpy as np"
   ]
  },
  {
   "cell_type": "code",
   "execution_count": 2,
   "metadata": {},
   "outputs": [
    {
     "name": "stderr",
     "output_type": "stream",
     "text": [
      "INFO:unityagents:\n",
      "'Academy' started successfully!\n",
      "Unity Academy name: Academy\n",
      "        Number of Brains: 1\n",
      "        Number of External Brains : 1\n",
      "        Lesson number : 0\n",
      "        Reset Parameters :\n",
      "\t\t\n",
      "Unity brain name: TennisBrain\n",
      "        Number of Visual Observations (per agent): 0\n",
      "        Vector Observation space type: continuous\n",
      "        Vector Observation space size (per agent): 8\n",
      "        Number of stacked Vector Observation: 3\n",
      "        Vector Action space type: continuous\n",
      "        Vector Action space size (per agent): 2\n",
      "        Vector Action descriptions: , \n"
     ]
    }
   ],
   "source": [
    "env = UnityEnvironment(file_name='./Tennis_Linux_NoVis/Tennis.x86_64')"
   ]
  },
  {
   "cell_type": "code",
   "execution_count": 3,
   "metadata": {},
   "outputs": [],
   "source": [
    "brain_name = env.brain_names[0]\n",
    "brain = env.brains[brain_name]"
   ]
  },
  {
   "cell_type": "code",
   "execution_count": 4,
   "metadata": {},
   "outputs": [],
   "source": [
    "env_info = env.reset(train_mode=True)[brain_name]\n",
    "num_agents = len(env_info.agents)\n",
    "action_size = brain.vector_action_space_size\n",
    "state_size = env_info.vector_observations.shape[1]"
   ]
  },
  {
   "cell_type": "markdown",
   "metadata": {},
   "source": [
    "## MADDPG"
   ]
  },
  {
   "cell_type": "code",
   "execution_count": 5,
   "metadata": {},
   "outputs": [],
   "source": [
    "import random\n",
    "import torch\n",
    "from collections import deque\n",
    "from datetime import datetime as dt\n",
    "import matplotlib.pyplot as plt\n",
    "%matplotlib inline"
   ]
  },
  {
   "cell_type": "code",
   "execution_count": 6,
   "metadata": {},
   "outputs": [],
   "source": [
    "from maddpg.maddpg_agents import Group"
   ]
  },
  {
   "cell_type": "code",
   "execution_count": 7,
   "metadata": {},
   "outputs": [],
   "source": [
    "group = Group(num_agents=num_agents, state_size=state_size, action_size=action_size, random_seed=2)"
   ]
  },
  {
   "cell_type": "code",
   "execution_count": 8,
   "metadata": {},
   "outputs": [],
   "source": [
    "def run_maddpg(n_episodes=1000, print_every=100):\n",
    "    solved = False\n",
    "    target_score = 0.5\n",
    "    scores_deque = deque(maxlen=print_every)\n",
    "    scores = []\n",
    "    \n",
    "    for i_episode in range(1, n_episodes+1):\n",
    "        env_info = env.reset(train_mode=True)[brain_name]\n",
    "        states = env_info.vector_observations\n",
    "        ## group.reset() # !!\n",
    "        episode_scores = np.zeros(num_agents)\n",
    "\n",
    "        while True:\n",
    "            group.reset_noise() # !!\n",
    "            actions = group.act(states) # !!\n",
    "            \n",
    "            \n",
    "            env_info = env.step(actions)[brain_name]\n",
    "            next_states = env_info.vector_observations\n",
    "            rewards = env_info.rewards\n",
    "            dones = env_info.local_done\n",
    "            \n",
    "            group.step(states, actions, rewards, next_states, dones) # !!\n",
    "            \n",
    "            states = next_states\n",
    "            episode_scores += np.array(rewards)\n",
    "            if np.any(dones):\n",
    "                break \n",
    "        \n",
    "        score = episode_scores.max()\n",
    "        scores_deque.append(score)\n",
    "        scores.append(score)\n",
    "        \n",
    "        print('\\rEpisode {}\\tAverage Score: {:.2f}'.format(i_episode, np.mean(scores_deque)), end=\"\")\n",
    "        torch.save(group.checkpoint(), 'checkpoints/checkpoint_group.pth')\n",
    "        \n",
    "        if i_episode % print_every == 0:\n",
    "            print('\\rEpisode {}\\tAverage Score: {:.2f}'.format(i_episode, np.mean(scores_deque)))\n",
    "            \n",
    "        if np.mean(scores_deque)>=target_score and not solved:\n",
    "            solved = True\n",
    "            print('\\nEnvironment solved in {:d} episodes!\\tAverage Score: {:.2f}'.format(i_episode, np.mean(scores_deque)))\n",
    "            timestamp = dt.now().strftime(\"%Y-%m-%d_%H:%M:%S\")\n",
    "            torch.save(group.checkpoint(), f'checkpoints/checkpoint_group_{timestamp}.pth')\n",
    "            \n",
    "    return scores"
   ]
  },
  {
   "cell_type": "code",
   "execution_count": 9,
   "metadata": {},
   "outputs": [
    {
     "name": "stdout",
     "output_type": "stream",
     "text": [
      "Episode 100\tAverage Score: 0.00\n",
      "Episode 200\tAverage Score: 0.01\n",
      "Episode 300\tAverage Score: 0.00\n",
      "Episode 400\tAverage Score: 0.00\n",
      "Episode 500\tAverage Score: 0.00\n",
      "Episode 600\tAverage Score: 0.00\n",
      "Episode 700\tAverage Score: 0.00\n",
      "Episode 800\tAverage Score: 0.04\n",
      "Episode 900\tAverage Score: 0.06\n",
      "Episode 1000\tAverage Score: 0.08\n",
      "Episode 1100\tAverage Score: 0.10\n",
      "Episode 1200\tAverage Score: 0.15\n",
      "Episode 1300\tAverage Score: 0.22\n",
      "Episode 1400\tAverage Score: 0.22\n",
      "Episode 1500\tAverage Score: 0.19\n",
      "Episode 1600\tAverage Score: 0.22\n",
      "Episode 1700\tAverage Score: 0.21\n",
      "Episode 1800\tAverage Score: 0.14\n",
      "Episode 1900\tAverage Score: 0.11\n",
      "Episode 2000\tAverage Score: 0.14\n",
      "Episode 2100\tAverage Score: 0.14\n",
      "Episode 2200\tAverage Score: 0.19\n",
      "Episode 2300\tAverage Score: 0.17\n",
      "Episode 2400\tAverage Score: 0.14\n",
      "Episode 2500\tAverage Score: 0.13\n",
      "Episode 2600\tAverage Score: 0.15\n",
      "Episode 2700\tAverage Score: 0.15\n",
      "Episode 2800\tAverage Score: 0.19\n",
      "Episode 2860\tAverage Score: 0.51\n",
      "Environment solved in 2860 episodes!\tAverage Score: 0.51\n",
      "Episode 2900\tAverage Score: 0.57\n",
      "Episode 3000\tAverage Score: 0.32\n",
      "Episode 3100\tAverage Score: 0.20\n",
      "Episode 3200\tAverage Score: 0.17\n",
      "Episode 3300\tAverage Score: 0.17\n",
      "Episode 3400\tAverage Score: 0.14\n",
      "Episode 3500\tAverage Score: 0.14\n",
      "Episode 3600\tAverage Score: 0.32\n",
      "Episode 3700\tAverage Score: 0.19\n",
      "Episode 3800\tAverage Score: 0.16\n",
      "Episode 3900\tAverage Score: 0.18\n",
      "Episode 4000\tAverage Score: 0.37\n",
      "Episode 4100\tAverage Score: 0.66\n",
      "Episode 4200\tAverage Score: 0.41\n",
      "Episode 4300\tAverage Score: 0.22\n",
      "Episode 4400\tAverage Score: 0.24\n",
      "Episode 4500\tAverage Score: 0.11\n",
      "Episode 4600\tAverage Score: 0.15\n",
      "Episode 4700\tAverage Score: 0.20\n",
      "Episode 4800\tAverage Score: 0.09\n",
      "Episode 4900\tAverage Score: 0.10\n",
      "Episode 5000\tAverage Score: 0.08\n",
      "Episode 5100\tAverage Score: 0.23\n",
      "Episode 5200\tAverage Score: 0.18\n",
      "Episode 5300\tAverage Score: 0.19\n",
      "Episode 5400\tAverage Score: 0.25\n",
      "Episode 5500\tAverage Score: 0.24\n",
      "Episode 5600\tAverage Score: 0.24\n",
      "Episode 5700\tAverage Score: 0.20\n",
      "Episode 5800\tAverage Score: 0.20\n",
      "Episode 5900\tAverage Score: 0.19\n",
      "Episode 6000\tAverage Score: 0.22\n",
      "Episode 6100\tAverage Score: 0.12\n",
      "Episode 6200\tAverage Score: 0.11\n",
      "Episode 6300\tAverage Score: 0.14\n",
      "Episode 6400\tAverage Score: 0.10\n",
      "Episode 6500\tAverage Score: 0.28\n",
      "Episode 6600\tAverage Score: 0.54\n",
      "Episode 6700\tAverage Score: 0.24\n",
      "Episode 6800\tAverage Score: 0.46\n",
      "Episode 6900\tAverage Score: 0.27\n",
      "Episode 7000\tAverage Score: 0.17\n",
      "Episode 7100\tAverage Score: 0.30\n",
      "Episode 7200\tAverage Score: 0.10\n",
      "Episode 7300\tAverage Score: 0.39\n",
      "Episode 7400\tAverage Score: 0.25\n",
      "Episode 7500\tAverage Score: 0.20\n",
      "Episode 7600\tAverage Score: 0.16\n",
      "Episode 7700\tAverage Score: 0.14\n",
      "Episode 7800\tAverage Score: 0.22\n",
      "Episode 7900\tAverage Score: 0.18\n",
      "Episode 8000\tAverage Score: 0.31\n",
      "Episode 8100\tAverage Score: 0.10\n",
      "Episode 8200\tAverage Score: 0.56\n",
      "Episode 8300\tAverage Score: 0.33\n",
      "Episode 8400\tAverage Score: 0.15\n",
      "Episode 8500\tAverage Score: 0.23\n",
      "Episode 8600\tAverage Score: 0.07\n",
      "Episode 8700\tAverage Score: 0.15\n",
      "Episode 8800\tAverage Score: 0.14\n",
      "Episode 8900\tAverage Score: 0.16\n",
      "Episode 9000\tAverage Score: 0.16\n",
      "Episode 9100\tAverage Score: 0.14\n",
      "Episode 9200\tAverage Score: 0.14\n",
      "Episode 9300\tAverage Score: 0.15\n",
      "Episode 9400\tAverage Score: 0.16\n",
      "Episode 9500\tAverage Score: 0.25\n",
      "Episode 9600\tAverage Score: 0.32\n",
      "Episode 9700\tAverage Score: 0.15\n",
      "Episode 9800\tAverage Score: 0.37\n",
      "Episode 9900\tAverage Score: 0.36\n",
      "Episode 10000\tAverage Score: 0.18\n",
      "CPU times: user 3h 51min 58s, sys: 3min 50s, total: 3h 55min 49s\n",
      "Wall time: 4h 56min 17s\n"
     ]
    }
   ],
   "source": [
    "%%time\n",
    "scores = run_maddpg(n_episodes=10000)"
   ]
  },
  {
   "cell_type": "code",
   "execution_count": 10,
   "metadata": {},
   "outputs": [
    {
     "data": {
      "image/png": "[encoded data removed]",
      "text/plain": [
       "<Figure size 432x288 with 1 Axes>"
      ]
     },
     "metadata": {
      "needs_background": "light"
     },
     "output_type": "display_data"
    }
   ],
   "source": [
    "fig = plt.figure()\n",
    "ax = fig.add_subplot(111)\n",
    "plt.plot(np.arange(1, len(scores)+1), scores)\n",
    "plt.ylabel('Score')\n",
    "plt.xlabel('Episode #')\n",
    "plt.show()"
   ]
  }
 ],
 "metadata": {
  "kernelspec": {
   "display_name": "RL",
   "language": "python",
   "name": "rl"
  },
  "language_info": {
   "codemirror_mode": {
    "name": "ipython",
    "version": 3
   },
   "file_extension": ".py",
   "mimetype": "text/x-python",
   "name": "python",
   "nbconvert_exporter": "python",
   "pygments_lexer": "ipython3",
   "version": "3.6.7"
  }
 },
 "nbformat": 4,
 "nbformat_minor": 2
}
